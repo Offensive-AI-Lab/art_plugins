{
 "cells": [
  {
   "cell_type": "code",
   "execution_count": 1,
   "metadata": {},
   "outputs": [
    {
     "name": "stderr",
     "output_type": "stream",
     "text": [
      "c:\\Users\\Administrator\\.conda\\envs\\ppoEnv\\lib\\site-packages\\tqdm\\auto.py:21: TqdmWarning: IProgress not found. Please update jupyter and ipywidgets. See https://ipywidgets.readthedocs.io/en/stable/user_install.html\n",
      "  from .autonotebook import tqdm as notebook_tqdm\n"
     ]
    }
   ],
   "source": [
    "import pandas as pd\n",
    "import numpy as np\n",
    "import pickle\n",
    "from constraints import generate_constraints\n",
    "\n",
    "import xgboost as xgb\n",
    "from HopSkipJump_Tabular import HopSkipJump\n",
    "from Boundary_Tabular import BoundaryAttack\n",
    "from sklearn.model_selection import train_test_split\n",
    "from sklearn.metrics import accuracy_score\n",
    "# wrappers\n",
    "from art.estimators.classification import XGBoostClassifier, SklearnClassifier, xgboost\n",
    "\n"
   ]
  },
  {
   "cell_type": "markdown",
   "metadata": {},
   "source": [
    "Generate random tabular dataset"
   ]
  },
  {
   "cell_type": "code",
   "execution_count": 2,
   "metadata": {},
   "outputs": [
    {
     "data": {
      "text/html": [
       "<div>\n",
       "<style scoped>\n",
       "    .dataframe tbody tr th:only-of-type {\n",
       "        vertical-align: middle;\n",
       "    }\n",
       "\n",
       "    .dataframe tbody tr th {\n",
       "        vertical-align: top;\n",
       "    }\n",
       "\n",
       "    .dataframe thead th {\n",
       "        text-align: right;\n",
       "    }\n",
       "</style>\n",
       "<table border=\"1\" class=\"dataframe\">\n",
       "  <thead>\n",
       "    <tr style=\"text-align: right;\">\n",
       "      <th></th>\n",
       "      <th>A</th>\n",
       "      <th>B</th>\n",
       "      <th>C</th>\n",
       "      <th>D</th>\n",
       "      <th>E</th>\n",
       "      <th>F</th>\n",
       "      <th>G</th>\n",
       "      <th>H</th>\n",
       "      <th>I</th>\n",
       "      <th>J</th>\n",
       "      <th>pred</th>\n",
       "    </tr>\n",
       "  </thead>\n",
       "  <tbody>\n",
       "    <tr>\n",
       "      <th>0</th>\n",
       "      <td>8.737470</td>\n",
       "      <td>-4.452732</td>\n",
       "      <td>-42.402433</td>\n",
       "      <td>13.297259</td>\n",
       "      <td>-11.634207</td>\n",
       "      <td>46.186411</td>\n",
       "      <td>40.225368</td>\n",
       "      <td>-12.961446</td>\n",
       "      <td>-35.908975</td>\n",
       "      <td>31.561008</td>\n",
       "      <td>0</td>\n",
       "    </tr>\n",
       "    <tr>\n",
       "      <th>1</th>\n",
       "      <td>-44.276731</td>\n",
       "      <td>2.636129</td>\n",
       "      <td>30.385704</td>\n",
       "      <td>24.032581</td>\n",
       "      <td>-32.991834</td>\n",
       "      <td>-28.681431</td>\n",
       "      <td>-0.575582</td>\n",
       "      <td>4.045955</td>\n",
       "      <td>10.718274</td>\n",
       "      <td>14.219855</td>\n",
       "      <td>1</td>\n",
       "    </tr>\n",
       "    <tr>\n",
       "      <th>2</th>\n",
       "      <td>-25.251271</td>\n",
       "      <td>0.371304</td>\n",
       "      <td>-1.059176</td>\n",
       "      <td>-42.067652</td>\n",
       "      <td>0.764938</td>\n",
       "      <td>-1.374950</td>\n",
       "      <td>-14.131471</td>\n",
       "      <td>-42.963698</td>\n",
       "      <td>21.557089</td>\n",
       "      <td>47.554996</td>\n",
       "      <td>1</td>\n",
       "    </tr>\n",
       "    <tr>\n",
       "      <th>3</th>\n",
       "      <td>-28.832128</td>\n",
       "      <td>-5.297842</td>\n",
       "      <td>27.231204</td>\n",
       "      <td>-26.490244</td>\n",
       "      <td>-33.991947</td>\n",
       "      <td>42.687121</td>\n",
       "      <td>-29.711690</td>\n",
       "      <td>6.580710</td>\n",
       "      <td>-14.711784</td>\n",
       "      <td>16.963742</td>\n",
       "      <td>1</td>\n",
       "    </tr>\n",
       "    <tr>\n",
       "      <th>4</th>\n",
       "      <td>-7.901436</td>\n",
       "      <td>5.544106</td>\n",
       "      <td>-15.027453</td>\n",
       "      <td>-13.639961</td>\n",
       "      <td>-10.767784</td>\n",
       "      <td>-40.407575</td>\n",
       "      <td>-23.900719</td>\n",
       "      <td>-31.523658</td>\n",
       "      <td>-2.486473</td>\n",
       "      <td>37.164518</td>\n",
       "      <td>0</td>\n",
       "    </tr>\n",
       "  </tbody>\n",
       "</table>\n",
       "</div>"
      ],
      "text/plain": [
       "           A         B          C          D          E          F          G  \\\n",
       "0   8.737470 -4.452732 -42.402433  13.297259 -11.634207  46.186411  40.225368   \n",
       "1 -44.276731  2.636129  30.385704  24.032581 -32.991834 -28.681431  -0.575582   \n",
       "2 -25.251271  0.371304  -1.059176 -42.067652   0.764938  -1.374950 -14.131471   \n",
       "3 -28.832128 -5.297842  27.231204 -26.490244 -33.991947  42.687121 -29.711690   \n",
       "4  -7.901436  5.544106 -15.027453 -13.639961 -10.767784 -40.407575 -23.900719   \n",
       "\n",
       "           H          I          J  pred  \n",
       "0 -12.961446 -35.908975  31.561008     0  \n",
       "1   4.045955  10.718274  14.219855     1  \n",
       "2 -42.963698  21.557089  47.554996     1  \n",
       "3   6.580710 -14.711784  16.963742     1  \n",
       "4 -31.523658  -2.486473  37.164518     0  "
      ]
     },
     "execution_count": 2,
     "metadata": {},
     "output_type": "execute_result"
    }
   ],
   "source": [
    "tabular_dataset = pd.DataFrame(np.random.uniform(-50, 50, size=(100, 10)), columns=list('ABCDEFGHIJ'))\n",
    "tabular_dataset['pred'] = np.random.randint(0,2,size=(100, 1))\n",
    "tabular_dataset.head()"
   ]
  },
  {
   "cell_type": "markdown",
   "metadata": {},
   "source": [
    "Training classification model (XGB)"
   ]
  },
  {
   "cell_type": "code",
   "execution_count": 3,
   "metadata": {},
   "outputs": [
    {
     "name": "stdout",
     "output_type": "stream",
     "text": [
      "Model accuracy: 45.00%\n"
     ]
    },
    {
     "name": "stderr",
     "output_type": "stream",
     "text": [
      "c:\\Users\\Administrator\\.conda\\envs\\ppoEnv\\lib\\site-packages\\xgboost\\core.py:158: UserWarning: [21:50:18] WARNING: D:\\bld\\xgboost-split_1724807710452\\work\\src\\learner.cc:740: \n",
      "Parameters: { \"use_label_encoder\" } are not used.\n",
      "\n",
      "  warnings.warn(smsg, UserWarning)\n"
     ]
    }
   ],
   "source": [
    "# Separate features (X) and target label (y)\n",
    "X = tabular_dataset.drop('pred', axis=1)\n",
    "y = tabular_dataset['pred']\n",
    "\n",
    "# Split into training and testing sets\n",
    "X_train, X_test, y_train, y_test = train_test_split(X, y, test_size=0.2, random_state=42)\n",
    "\n",
    "# Initialize XGBoost classifier\n",
    "model = xgb.XGBClassifier(use_label_encoder=False, eval_metric='logloss')\n",
    "\n",
    "# Train the model\n",
    "model.fit(X_train, y_train)\n",
    "\n",
    "# Make predictions and evaluate\n",
    "y_pred = model.predict(X_test)\n",
    "accuracy = accuracy_score(y_test, y_pred)\n",
    "\n",
    "print(f\"Model accuracy: {accuracy * 100:.2f}%\")"
   ]
  },
  {
   "cell_type": "markdown",
   "metadata": {},
   "source": [
    "Attacks parameters"
   ]
  },
  {
   "cell_type": "code",
   "execution_count": 4,
   "metadata": {},
   "outputs": [],
   "source": [
    "columns_names = list(X_test.columns)\n",
    "attack_x = np.array(X_test.copy())\n",
    "true_label = y_test.transpose().values.tolist()[0]\n"
   ]
  },
  {
   "cell_type": "code",
   "execution_count": 8,
   "metadata": {},
   "outputs": [],
   "source": [
    "### boundary attack params ###\n",
    "epsilon=1.\n",
    "delta = 1.\n",
    "max_iter_b =3000\n",
    "num_trial =2000\n",
    "adapt_step = 1.\n",
    "boundary_params = {'epsilon':epsilon, 'delta':delta, 'max_iter':max_iter_b, 'num_trial':num_trial, 'step_adapt':adapt_step}\n",
    "\n",
    "### hopskip attack params ###\n",
    "batch_size = 128\n",
    "norm = 2\n",
    "max_iter_h = 500\n",
    "max_eval_h = 1000\n",
    "init_eval = 500\n",
    "init_size = 1000\n",
    "hopskip_params = {'batch_size':batch_size, 'norm':norm, 'init_eval':init_eval, 'init_size':init_size, 'max_iter':max_iter_h, 'max_eval':max_eval_h}\n",
    "\n",
    "\n",
    "generate_params = {'dataset':tabular_dataset, 'mask':None, 'columns_names':columns_names, 'seed':12}"
   ]
  },
  {
   "cell_type": "markdown",
   "metadata": {},
   "source": [
    "HopSkipJump attack generation and evaluation"
   ]
  },
  {
   "cell_type": "code",
   "execution_count": 6,
   "metadata": {},
   "outputs": [
    {
     "name": "stderr",
     "output_type": "stream",
     "text": [
      "BouHopSkipJump attack - iterations: 100%|██████████| 500/500 [00:03<00:00, 156.69it/s]\n",
      "BouHopSkipJump attack - iterations: 100%|██████████| 500/500 [00:03<00:00, 153.82it/s]\n",
      "BouHopSkipJump attack - iterations: 100%|██████████| 500/500 [00:03<00:00, 160.57it/s]\n",
      "BouHopSkipJump attack - iterations: 100%|██████████| 500/500 [00:03<00:00, 150.17it/s]\n",
      "BouHopSkipJump attack - iterations: 100%|██████████| 500/500 [00:03<00:00, 163.59it/s]\n",
      "BouHopSkipJump attack - iterations: 100%|██████████| 500/500 [00:03<00:00, 157.54it/s]\n",
      "BouHopSkipJump attack - iterations: 100%|██████████| 500/500 [00:03<00:00, 146.81it/s]\n",
      "BouHopSkipJump attack - iterations: 100%|██████████| 500/500 [00:03<00:00, 134.24it/s]\n",
      "BouHopSkipJump attack - iterations: 100%|██████████| 500/500 [00:03<00:00, 125.47it/s]\n",
      "BouHopSkipJump attack - iterations: 100%|██████████| 500/500 [00:04<00:00, 117.76it/s]\n",
      "BouHopSkipJump attack - iterations: 100%|██████████| 500/500 [00:04<00:00, 124.68it/s]\n",
      "BouHopSkipJump attack - iterations: 100%|██████████| 500/500 [00:04<00:00, 123.20it/s]\n",
      "BouHopSkipJump attack - iterations: 100%|██████████| 500/500 [00:04<00:00, 117.41it/s]\n",
      "BouHopSkipJump attack - iterations: 100%|██████████| 500/500 [00:04<00:00, 118.69it/s]\n",
      "BouHopSkipJump attack - iterations: 100%|██████████| 500/500 [00:04<00:00, 119.17it/s]\n",
      "BouHopSkipJump attack - iterations: 100%|██████████| 500/500 [00:03<00:00, 128.85it/s]\n",
      "BouHopSkipJump attack - iterations: 100%|██████████| 500/500 [00:03<00:00, 125.66it/s]\n",
      "BouHopSkipJump attack - iterations: 100%|██████████| 500/500 [00:03<00:00, 127.18it/s]\n",
      "BouHopSkipJump attack - iterations: 100%|██████████| 500/500 [00:04<00:00, 119.48it/s]\n",
      "BouHopSkipJump attack - iterations: 100%|██████████| 500/500 [00:03<00:00, 130.47it/s]\n",
      "HopSkipJump: 100%|██████████| 20/20 [01:15<00:00,  3.77s/it]"
     ]
    },
    {
     "name": "stdout",
     "output_type": "stream",
     "text": [
      "Success rate of HopSkipJump attack: 100.00\n"
     ]
    },
    {
     "name": "stderr",
     "output_type": "stream",
     "text": [
      "\n"
     ]
    }
   ],
   "source": [
    "# Wrapper for ART\n",
    "target_model = XGBoostClassifier(model=model, nb_features=attack_x.shape[1], nb_classes=2)\n",
    "\n",
    "hopSkip_attack = HopSkipJump(classifier=target_model, **hopskip_params)\n",
    "adv, queries, failed_ind = hopSkip_attack.generate( x=attack_x, **generate_params, x_adv_init=None)\n",
    "\n",
    "## EVALUATE ATTACK ###\n",
    "        \n",
    "pred_original_target = np.argmax(target_model.predict(X_test), axis=1)\n",
    "pred_adv_target = np.argmax(target_model.predict(adv), axis=1)\n",
    "\n",
    "### -------- compute success -------- ###\n",
    "target_success = pred_adv_target.flatten() != pred_original_target.flatten()\n",
    "\n",
    "success =  100 * np.sum(target_success)/ attack_x.shape[0]\n",
    "print('Success rate of HopSkipJump attack: {:.2f}'.format(success))"
   ]
  },
  {
   "cell_type": "markdown",
   "metadata": {},
   "source": [
    "Boundary attack generation and evaluation"
   ]
  },
  {
   "cell_type": "code",
   "execution_count": 9,
   "metadata": {},
   "outputs": [
    {
     "name": "stderr",
     "output_type": "stream",
     "text": [
      "Boundary attack:   0%|          | 0/20 [00:00<?, ?it/s]Adversarial example found but not optimal.\n",
      "Boundary attack - iterations:   0%|          | 0/3000 [00:00<?, ?it/s]\n",
      "Boundary attack:   5%|▌         | 1/20 [00:00<00:18,  1.01it/s]Adversarial example found but not optimal.\n",
      "Boundary attack - iterations:   0%|          | 0/3000 [00:01<?, ?it/s]\n",
      "Boundary attack:  10%|█         | 2/20 [00:02<00:19,  1.11s/it]Adversarial example found but not optimal.\n",
      "Boundary attack - iterations:   0%|          | 0/3000 [00:00<?, ?it/s]\n",
      "Boundary attack:  15%|█▌        | 3/20 [00:03<00:17,  1.05s/it]Adversarial example found but not optimal.\n",
      "Boundary attack - iterations:   0%|          | 0/3000 [00:00<?, ?it/s]\n",
      "Boundary attack - iterations: 100%|██████████| 3000/3000 [00:19<00:00, 154.61it/s]\n",
      "Boundary attack:  25%|██▌       | 5/20 [00:23<01:54,  7.65s/it]Adversarial example found but not optimal.\n",
      "Boundary attack - iterations:   0%|          | 0/3000 [00:01<?, ?it/s]\n",
      "Boundary attack - iterations: 100%|██████████| 3000/3000 [00:22<00:00, 134.70it/s]\n",
      "Boundary attack - iterations: 100%|██████████| 3000/3000 [00:26<00:00, 111.98it/s]\n",
      "Boundary attack:  40%|████      | 8/20 [01:13<03:12, 16.02s/it]Adversarial example found but not optimal.\n",
      "Boundary attack - iterations:   0%|          | 0/3000 [00:03<?, ?it/s]\n",
      "Boundary attack:  45%|████▌     | 9/20 [01:17<02:12, 12.04s/it]Adversarial example found but not optimal.\n",
      "Boundary attack - iterations:   0%|          | 0/3000 [00:01<?, ?it/s]\n",
      "Boundary attack:  50%|█████     | 10/20 [01:19<01:29,  8.92s/it]Adversarial example found but not optimal.\n",
      "Boundary attack - iterations:   0%|          | 0/3000 [00:02<?, ?it/s]\n",
      "Boundary attack:  55%|█████▌    | 11/20 [01:21<01:03,  7.01s/it]Adversarial example found but not optimal.\n",
      "Boundary attack - iterations:   0%|          | 0/3000 [00:02<?, ?it/s]\n",
      "Boundary attack:  60%|██████    | 12/20 [01:23<00:44,  5.51s/it]Adversarial example found but not optimal.\n",
      "Boundary attack - iterations:   0%|          | 0/3000 [00:01<?, ?it/s]\n",
      "Boundary attack:  65%|██████▌   | 13/20 [01:25<00:30,  4.34s/it]Adversarial example found but not optimal.\n",
      "Boundary attack - iterations:   0%|          | 0/3000 [00:01<?, ?it/s]\n",
      "Boundary attack - iterations: 100%|██████████| 3000/3000 [00:25<00:00, 118.47it/s]\n",
      "Boundary attack:  75%|███████▌  | 15/20 [01:52<00:50, 10.10s/it]Adversarial example found but not optimal.\n",
      "Boundary attack - iterations:   0%|          | 0/3000 [00:01<?, ?it/s]\n",
      "Boundary attack - iterations: 100%|██████████| 3000/3000 [00:22<00:00, 135.39it/s]\n",
      "Boundary attack:  85%|████████▌ | 17/20 [02:15<00:35, 11.85s/it]Adversarial example found but not optimal.\n",
      "Boundary attack - iterations:   0%|          | 0/3000 [00:01<?, ?it/s]\n",
      "Boundary attack:  90%|█████████ | 18/20 [02:16<00:17,  8.61s/it]Adversarial example found but not optimal.\n",
      "Boundary attack - iterations:   0%|          | 0/3000 [00:01<?, ?it/s]\n",
      "Boundary attack:  95%|█████████▌| 19/20 [02:18<00:06,  6.38s/it]Adversarial example found but not optimal.\n",
      "Boundary attack - iterations:   0%|          | 0/3000 [00:01<?, ?it/s]\n",
      "Boundary attack: 100%|██████████| 20/20 [02:19<00:00,  6.96s/it]"
     ]
    },
    {
     "name": "stdout",
     "output_type": "stream",
     "text": [
      "Success rate of Boundary attack: 100.00\n"
     ]
    },
    {
     "name": "stderr",
     "output_type": "stream",
     "text": [
      "\n"
     ]
    }
   ],
   "source": [
    "# Wrapper for ART\n",
    "target_model = XGBoostClassifier(model=model, nb_features=attack_x.shape[1], nb_classes=2)\n",
    "\n",
    "boundary_attack = BoundaryAttack( estimator=target_model, **boundary_params)\n",
    "adv, queries, failed_ind = boundary_attack.generate( x=attack_x, **generate_params, x_adv_init=None)\n",
    "\n",
    "## EVALUATE ATTACK ###\n",
    "        \n",
    "pred_original_target = np.argmax(target_model.predict(X_test), axis=1)\n",
    "pred_adv_target = np.argmax(target_model.predict(adv), axis=1)\n",
    "\n",
    "### -------- compute success -------- ###\n",
    "target_success = pred_adv_target.flatten() != pred_original_target.flatten()\n",
    "\n",
    "success =  100 * np.sum(target_success)/ attack_x.shape[0]\n",
    "print('Success rate of Boundary attack: {:.2f}'.format(success))"
   ]
  }
 ],
 "metadata": {
  "kernelspec": {
   "display_name": "ppoEnv",
   "language": "python",
   "name": "python3"
  },
  "language_info": {
   "codemirror_mode": {
    "name": "ipython",
    "version": 3
   },
   "file_extension": ".py",
   "mimetype": "text/x-python",
   "name": "python",
   "nbconvert_exporter": "python",
   "pygments_lexer": "ipython3",
   "version": "3.10.14"
  }
 },
 "nbformat": 4,
 "nbformat_minor": 2
}
